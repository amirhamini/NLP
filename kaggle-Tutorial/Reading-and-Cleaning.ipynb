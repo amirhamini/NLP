{
 "cells": [
  {
   "cell_type": "code",
   "execution_count": 1,
   "metadata": {
    "collapsed": true
   },
   "outputs": [],
   "source": [
    "import pandas as pd\n",
    "from bs4 import BeautifulSoup as bs\n",
    "import nltk\n",
    "from nltk.corpus import stopwords # Import the stop word list\n",
    "import numpy as np\n",
    "import re"
   ]
  },
  {
   "cell_type": "markdown",
   "metadata": {},
   "source": [
    "# Read the train data:"
   ]
  },
  {
   "cell_type": "code",
   "execution_count": null,
   "metadata": {
    "collapsed": false
   },
   "outputs": [],
   "source": [
    "train = pd.read_csv(\"./Data/labeledTrainData.tsv\", header=0, delimiter=\"\\t\", quoting=3)\n",
    "# Here, \"header=0\" indicates that the first line of the file contains column names,\n",
    "# \"delimiter=\\t\" indicates that the fields are separated by tabs, and quoting=3 tells Python to ignore doubled quotes,\n",
    "# otherwise you may encounter errors trying to read the file."
   ]
  },
  {
   "cell_type": "code",
   "execution_count": null,
   "metadata": {
    "collapsed": false
   },
   "outputs": [],
   "source": [
    "train.head()"
   ]
  },
  {
   "cell_type": "code",
   "execution_count": null,
   "metadata": {
    "collapsed": false
   },
   "outputs": [],
   "source": [
    "print train.shape"
   ]
  },
  {
   "cell_type": "code",
   "execution_count": null,
   "metadata": {
    "collapsed": false
   },
   "outputs": [],
   "source": [
    "train.columns.values"
   ]
  },
  {
   "cell_type": "code",
   "execution_count": null,
   "metadata": {
    "collapsed": false
   },
   "outputs": [],
   "source": [
    "train[\"review\"][0]"
   ]
  },
  {
   "cell_type": "markdown",
   "metadata": {},
   "source": [
    "# Clean the data using \n",
    "- [BeautifulSoup](https://www.crummy.com/software/BeautifulSoup/bs4/doc/) to deal with HTML stuff.\n",
    "- re to deal with numbers and punctuations"
   ]
  },
  {
   "cell_type": "code",
   "execution_count": null,
   "metadata": {
    "collapsed": false
   },
   "outputs": [],
   "source": [
    "rev_01 = train[\"review\"][0]\n",
    "rev_01_pbs = bs(train[\"review\"][0])"
   ]
  },
  {
   "cell_type": "code",
   "execution_count": null,
   "metadata": {
    "collapsed": false
   },
   "outputs": [],
   "source": [
    "print rev_01\n",
    "print rev_01_pbs.get_text()"
   ]
  },
  {
   "cell_type": "markdown",
   "metadata": {},
   "source": [
    "## Just keep the letters:"
   ]
  },
  {
   "cell_type": "code",
   "execution_count": null,
   "metadata": {
    "collapsed": false
   },
   "outputs": [],
   "source": [
    "# Use regular expressions to do a find-and-replace\n",
    "letters_only = re.sub(\"[^a-zA-Z]\",  \" \", rev_01_pbs.get_text())\n",
    "# [] indicates group membership and ^ means \"not\". In other words,\n",
    "# the re.sub() statement above says, \"Find anything that is NOT a lowercase letter (a-z) or an upper case letter (A-Z),\n",
    "# and replace it with a space.\"\n",
    "print letters_only"
   ]
  },
  {
   "cell_type": "markdown",
   "metadata": {},
   "source": [
    "##  Convert to lower case and split them into individual words (tokenization):"
   ]
  },
  {
   "cell_type": "code",
   "execution_count": null,
   "metadata": {
    "collapsed": true
   },
   "outputs": [],
   "source": [
    "lower_case = letters_only.lower()\n",
    "words = lower_case.split()"
   ]
  },
  {
   "cell_type": "code",
   "execution_count": null,
   "metadata": {
    "collapsed": false
   },
   "outputs": [],
   "source": [
    "print words\n",
    "print len(words)"
   ]
  },
  {
   "cell_type": "markdown",
   "metadata": {},
   "source": [
    "## Take out the stop words using\n",
    "\n",
    "- [NLTK](http://www.nltk.org/)"
   ]
  },
  {
   "cell_type": "code",
   "execution_count": null,
   "metadata": {
    "collapsed": false
   },
   "outputs": [],
   "source": [
    "print stopwords.words(\"english\") "
   ]
  },
  {
   "cell_type": "code",
   "execution_count": null,
   "metadata": {
    "collapsed": false
   },
   "outputs": [],
   "source": [
    "words_stop_clean = [w for w in words if not w in stopwords.words(\"english\")]\n",
    "print len(words_stop_clean)"
   ]
  },
  {
   "cell_type": "markdown",
   "metadata": {},
   "source": [
    "## Clean Function:\n"
   ]
  },
  {
   "cell_type": "code",
   "execution_count": 2,
   "metadata": {
    "collapsed": true
   },
   "outputs": [],
   "source": [
    "def review_to_words( raw_review ):\n",
    "    # Function to convert a raw review to a string of words\n",
    "    # The input is a single string (a raw movie review), and \n",
    "    # the output is a single string (a preprocessed movie review)\n",
    "    #\n",
    "    # 1. Remove HTML\n",
    "    review_text = bs(raw_review).get_text() \n",
    "    #\n",
    "    # 2. Remove non-letters        \n",
    "    letters_only = re.sub(\"[^a-zA-Z]\", \" \", review_text) \n",
    "    #\n",
    "    # 3. Convert to lower case, split into individual words\n",
    "    words = letters_only.lower().split()                             \n",
    "    #\n",
    "    # 4. In Python, searching a set is much faster than searching\n",
    "    #   a list, so convert the stop words to a set\n",
    "    stops = set(stopwords.words(\"english\"))                  \n",
    "    # \n",
    "    # 5. Remove stop words\n",
    "    meaningful_words = [w for w in words if not w in stops]   \n",
    "    #\n",
    "    # 6. Join the words back into one string separated by space, \n",
    "    # and return the result.\n",
    "    return( \" \".join( meaningful_words ))"
   ]
  },
  {
   "cell_type": "code",
   "execution_count": null,
   "metadata": {
    "collapsed": false
   },
   "outputs": [],
   "source": [
    "clean_rev_01 = review_to_words(train[\"review\"][0])\n",
    "print clean_rev_01"
   ]
  },
  {
   "cell_type": "markdown",
   "metadata": {},
   "source": [
    "## Clean the entire train-data:"
   ]
  },
  {
   "cell_type": "code",
   "execution_count": null,
   "metadata": {
    "collapsed": false
   },
   "outputs": [],
   "source": [
    "num_reviews = train.size\n",
    "train[\"clean review\"] = 'empty'\n",
    "for i in xrange(0, num_reviews):\n",
    "    train[\"clean review\"][i] = review_to_words(train[\"review\"][i])"
   ]
  },
  {
   "cell_type": "code",
   "execution_count": null,
   "metadata": {
    "collapsed": false
   },
   "outputs": [],
   "source": [
    "train.head(0)"
   ]
  },
  {
   "cell_type": "markdown",
   "metadata": {},
   "source": [
    "## save the dataFrame with the new clean column:"
   ]
  },
  {
   "cell_type": "code",
   "execution_count": 3,
   "metadata": {
    "collapsed": false
   },
   "outputs": [
    {
     "ename": "NameError",
     "evalue": "name 'train' is not defined",
     "output_type": "error",
     "traceback": [
      "\u001b[0;31m---------------------------------------------------------------------------\u001b[0m",
      "\u001b[0;31mNameError\u001b[0m                                 Traceback (most recent call last)",
      "\u001b[0;32m<ipython-input-3-8539ce11922e>\u001b[0m in \u001b[0;36m<module>\u001b[0;34m()\u001b[0m\n\u001b[0;32m----> 1\u001b[0;31m \u001b[0mtrain\u001b[0m\u001b[0;34m.\u001b[0m\u001b[0mto_csv\u001b[0m\u001b[0;34m(\u001b[0m\u001b[0;34m\"./Data/clean-data.csv\"\u001b[0m\u001b[0;34m,\u001b[0m \u001b[0msep\u001b[0m\u001b[0;34m=\u001b[0m\u001b[0;34m'\\t'\u001b[0m\u001b[0;34m)\u001b[0m\u001b[0;34m\u001b[0m\u001b[0m\n\u001b[0m",
      "\u001b[0;31mNameError\u001b[0m: name 'train' is not defined"
     ]
    }
   ],
   "source": [
    "train.to_csv(\"./Data/clean-data.csv\", sep='\\t')"
   ]
  },
  {
   "cell_type": "markdown",
   "metadata": {},
   "source": [
    "## Apply the cleaning to test-data:"
   ]
  },
  {
   "cell_type": "code",
   "execution_count": 4,
   "metadata": {
    "collapsed": true
   },
   "outputs": [],
   "source": [
    "test = pd.read_csv(\"./Data/testData.tsv\", header=0, delimiter=\"\\t\", quoting=3)"
   ]
  },
  {
   "cell_type": "code",
   "execution_count": 5,
   "metadata": {
    "collapsed": false
   },
   "outputs": [
    {
     "data": {
      "text/html": [
       "<div>\n",
       "<table border=\"1\" class=\"dataframe\">\n",
       "  <thead>\n",
       "    <tr style=\"text-align: right;\">\n",
       "      <th></th>\n",
       "      <th>id</th>\n",
       "      <th>review</th>\n",
       "    </tr>\n",
       "  </thead>\n",
       "  <tbody>\n",
       "    <tr>\n",
       "      <th>0</th>\n",
       "      <td>\"12311_10\"</td>\n",
       "      <td>\"Naturally in a film who's main themes are of ...</td>\n",
       "    </tr>\n",
       "    <tr>\n",
       "      <th>1</th>\n",
       "      <td>\"8348_2\"</td>\n",
       "      <td>\"This movie is a disaster within a disaster fi...</td>\n",
       "    </tr>\n",
       "    <tr>\n",
       "      <th>2</th>\n",
       "      <td>\"5828_4\"</td>\n",
       "      <td>\"All in all, this is a movie for kids. We saw ...</td>\n",
       "    </tr>\n",
       "    <tr>\n",
       "      <th>3</th>\n",
       "      <td>\"7186_2\"</td>\n",
       "      <td>\"Afraid of the Dark left me with the impressio...</td>\n",
       "    </tr>\n",
       "    <tr>\n",
       "      <th>4</th>\n",
       "      <td>\"12128_7\"</td>\n",
       "      <td>\"A very accurate depiction of small time mob l...</td>\n",
       "    </tr>\n",
       "  </tbody>\n",
       "</table>\n",
       "</div>"
      ],
      "text/plain": [
       "           id                                             review\n",
       "0  \"12311_10\"  \"Naturally in a film who's main themes are of ...\n",
       "1    \"8348_2\"  \"This movie is a disaster within a disaster fi...\n",
       "2    \"5828_4\"  \"All in all, this is a movie for kids. We saw ...\n",
       "3    \"7186_2\"  \"Afraid of the Dark left me with the impressio...\n",
       "4   \"12128_7\"  \"A very accurate depiction of small time mob l..."
      ]
     },
     "execution_count": 5,
     "metadata": {},
     "output_type": "execute_result"
    }
   ],
   "source": [
    "test.head()"
   ]
  },
  {
   "cell_type": "code",
   "execution_count": 9,
   "metadata": {
    "collapsed": false
   },
   "outputs": [
    {
     "ename": "KeyError",
     "evalue": "25000",
     "output_type": "error",
     "traceback": [
      "\u001b[0;31m---------------------------------------------------------------------------\u001b[0m",
      "\u001b[0;31mKeyError\u001b[0m                                  Traceback (most recent call last)",
      "\u001b[0;32m<ipython-input-9-156580ebc00b>\u001b[0m in \u001b[0;36m<module>\u001b[0;34m()\u001b[0m\n\u001b[1;32m      2\u001b[0m \u001b[0mtest\u001b[0m\u001b[0;34m[\u001b[0m\u001b[0;34m\"clean review\"\u001b[0m\u001b[0;34m]\u001b[0m \u001b[0;34m=\u001b[0m \u001b[0;34m'empty'\u001b[0m\u001b[0;34m\u001b[0m\u001b[0m\n\u001b[1;32m      3\u001b[0m \u001b[0;32mfor\u001b[0m \u001b[0mi\u001b[0m \u001b[0;32min\u001b[0m \u001b[0mxrange\u001b[0m\u001b[0;34m(\u001b[0m\u001b[0;36m0\u001b[0m\u001b[0;34m,\u001b[0m \u001b[0mnum_reviews\u001b[0m\u001b[0;34m)\u001b[0m\u001b[0;34m:\u001b[0m\u001b[0;34m\u001b[0m\u001b[0m\n\u001b[0;32m----> 4\u001b[0;31m     \u001b[0mtest\u001b[0m\u001b[0;34m[\u001b[0m\u001b[0;34m\"clean review\"\u001b[0m\u001b[0;34m]\u001b[0m\u001b[0;34m[\u001b[0m\u001b[0mi\u001b[0m\u001b[0;34m]\u001b[0m \u001b[0;34m=\u001b[0m \u001b[0mreview_to_words\u001b[0m\u001b[0;34m(\u001b[0m\u001b[0mtest\u001b[0m\u001b[0;34m[\u001b[0m\u001b[0;34m\"review\"\u001b[0m\u001b[0;34m]\u001b[0m\u001b[0;34m[\u001b[0m\u001b[0mi\u001b[0m\u001b[0;34m]\u001b[0m\u001b[0;34m)\u001b[0m\u001b[0;34m\u001b[0m\u001b[0m\n\u001b[0m",
      "\u001b[0;32m/opt/local/Library/Frameworks/Python.framework/Versions/2.7/lib/python2.7/site-packages/pandas/core/series.pyc\u001b[0m in \u001b[0;36m__getitem__\u001b[0;34m(self, key)\u001b[0m\n\u001b[1;32m    519\u001b[0m     \u001b[0;32mdef\u001b[0m \u001b[0m__getitem__\u001b[0m\u001b[0;34m(\u001b[0m\u001b[0mself\u001b[0m\u001b[0;34m,\u001b[0m \u001b[0mkey\u001b[0m\u001b[0;34m)\u001b[0m\u001b[0;34m:\u001b[0m\u001b[0;34m\u001b[0m\u001b[0m\n\u001b[1;32m    520\u001b[0m         \u001b[0;32mtry\u001b[0m\u001b[0;34m:\u001b[0m\u001b[0;34m\u001b[0m\u001b[0m\n\u001b[0;32m--> 521\u001b[0;31m             \u001b[0mresult\u001b[0m \u001b[0;34m=\u001b[0m \u001b[0mself\u001b[0m\u001b[0;34m.\u001b[0m\u001b[0mindex\u001b[0m\u001b[0;34m.\u001b[0m\u001b[0mget_value\u001b[0m\u001b[0;34m(\u001b[0m\u001b[0mself\u001b[0m\u001b[0;34m,\u001b[0m \u001b[0mkey\u001b[0m\u001b[0;34m)\u001b[0m\u001b[0;34m\u001b[0m\u001b[0m\n\u001b[0m\u001b[1;32m    522\u001b[0m \u001b[0;34m\u001b[0m\u001b[0m\n\u001b[1;32m    523\u001b[0m             \u001b[0;32mif\u001b[0m \u001b[0;32mnot\u001b[0m \u001b[0mnp\u001b[0m\u001b[0;34m.\u001b[0m\u001b[0misscalar\u001b[0m\u001b[0;34m(\u001b[0m\u001b[0mresult\u001b[0m\u001b[0;34m)\u001b[0m\u001b[0;34m:\u001b[0m\u001b[0;34m\u001b[0m\u001b[0m\n",
      "\u001b[0;32m/opt/local/Library/Frameworks/Python.framework/Versions/2.7/lib/python2.7/site-packages/pandas/core/index.pyc\u001b[0m in \u001b[0;36mget_value\u001b[0;34m(self, series, key)\u001b[0m\n\u001b[1;32m   1593\u001b[0m \u001b[0;34m\u001b[0m\u001b[0m\n\u001b[1;32m   1594\u001b[0m         \u001b[0;32mtry\u001b[0m\u001b[0;34m:\u001b[0m\u001b[0;34m\u001b[0m\u001b[0m\n\u001b[0;32m-> 1595\u001b[0;31m             \u001b[0;32mreturn\u001b[0m \u001b[0mself\u001b[0m\u001b[0;34m.\u001b[0m\u001b[0m_engine\u001b[0m\u001b[0;34m.\u001b[0m\u001b[0mget_value\u001b[0m\u001b[0;34m(\u001b[0m\u001b[0ms\u001b[0m\u001b[0;34m,\u001b[0m \u001b[0mk\u001b[0m\u001b[0;34m)\u001b[0m\u001b[0;34m\u001b[0m\u001b[0m\n\u001b[0m\u001b[1;32m   1596\u001b[0m         \u001b[0;32mexcept\u001b[0m \u001b[0mKeyError\u001b[0m \u001b[0;32mas\u001b[0m \u001b[0me1\u001b[0m\u001b[0;34m:\u001b[0m\u001b[0;34m\u001b[0m\u001b[0m\n\u001b[1;32m   1597\u001b[0m             \u001b[0;32mif\u001b[0m \u001b[0mlen\u001b[0m\u001b[0;34m(\u001b[0m\u001b[0mself\u001b[0m\u001b[0;34m)\u001b[0m \u001b[0;34m>\u001b[0m \u001b[0;36m0\u001b[0m \u001b[0;32mand\u001b[0m \u001b[0mself\u001b[0m\u001b[0;34m.\u001b[0m\u001b[0minferred_type\u001b[0m \u001b[0;32min\u001b[0m \u001b[0;34m[\u001b[0m\u001b[0;34m'integer'\u001b[0m\u001b[0;34m,\u001b[0m\u001b[0;34m'boolean'\u001b[0m\u001b[0;34m]\u001b[0m\u001b[0;34m:\u001b[0m\u001b[0;34m\u001b[0m\u001b[0m\n",
      "\u001b[0;32mpandas/index.pyx\u001b[0m in \u001b[0;36mpandas.index.IndexEngine.get_value (pandas/index.c:3113)\u001b[0;34m()\u001b[0m\n",
      "\u001b[0;32mpandas/index.pyx\u001b[0m in \u001b[0;36mpandas.index.IndexEngine.get_value (pandas/index.c:2844)\u001b[0;34m()\u001b[0m\n",
      "\u001b[0;32mpandas/index.pyx\u001b[0m in \u001b[0;36mpandas.index.IndexEngine.get_loc (pandas/index.c:3704)\u001b[0;34m()\u001b[0m\n",
      "\u001b[0;32mpandas/hashtable.pyx\u001b[0m in \u001b[0;36mpandas.hashtable.Int64HashTable.get_item (pandas/hashtable.c:7224)\u001b[0;34m()\u001b[0m\n",
      "\u001b[0;32mpandas/hashtable.pyx\u001b[0m in \u001b[0;36mpandas.hashtable.Int64HashTable.get_item (pandas/hashtable.c:7162)\u001b[0;34m()\u001b[0m\n",
      "\u001b[0;31mKeyError\u001b[0m: 25000"
     ]
    }
   ],
   "source": [
    "num_reviews = test.size\n",
    "test[\"clean review\"] = 'empty'\n",
    "for i in xrange(0, num_reviews):\n",
    "    test[\"clean review\"][i] = review_to_words(test[\"review\"][i])"
   ]
  },
  {
   "cell_type": "code",
   "execution_count": 11,
   "metadata": {
    "collapsed": false
   },
   "outputs": [
    {
     "data": {
      "text/html": [
       "<div>\n",
       "<table border=\"1\" class=\"dataframe\">\n",
       "  <thead>\n",
       "    <tr style=\"text-align: right;\">\n",
       "      <th></th>\n",
       "      <th>id</th>\n",
       "      <th>review</th>\n",
       "      <th>clean review</th>\n",
       "    </tr>\n",
       "  </thead>\n",
       "  <tbody>\n",
       "    <tr>\n",
       "      <th>0</th>\n",
       "      <td>\"12311_10\"</td>\n",
       "      <td>\"Naturally in a film who's main themes are of ...</td>\n",
       "      <td>naturally film main themes mortality nostalgia...</td>\n",
       "    </tr>\n",
       "    <tr>\n",
       "      <th>1</th>\n",
       "      <td>\"8348_2\"</td>\n",
       "      <td>\"This movie is a disaster within a disaster fi...</td>\n",
       "      <td>movie disaster within disaster film full great...</td>\n",
       "    </tr>\n",
       "    <tr>\n",
       "      <th>2</th>\n",
       "      <td>\"5828_4\"</td>\n",
       "      <td>\"All in all, this is a movie for kids. We saw ...</td>\n",
       "      <td>movie kids saw tonight child loved one point k...</td>\n",
       "    </tr>\n",
       "    <tr>\n",
       "      <th>3</th>\n",
       "      <td>\"7186_2\"</td>\n",
       "      <td>\"Afraid of the Dark left me with the impressio...</td>\n",
       "      <td>afraid dark left impression several different ...</td>\n",
       "    </tr>\n",
       "    <tr>\n",
       "      <th>4</th>\n",
       "      <td>\"12128_7\"</td>\n",
       "      <td>\"A very accurate depiction of small time mob l...</td>\n",
       "      <td>accurate depiction small time mob life filmed ...</td>\n",
       "    </tr>\n",
       "    <tr>\n",
       "      <th>5</th>\n",
       "      <td>\"2913_8\"</td>\n",
       "      <td>\"...as valuable as King Tut's tomb! (OK, maybe...</td>\n",
       "      <td>valuable king tut tomb ok maybe valuable worth...</td>\n",
       "    </tr>\n",
       "    <tr>\n",
       "      <th>6</th>\n",
       "      <td>\"4396_1\"</td>\n",
       "      <td>\"This has to be one of the biggest misfires ev...</td>\n",
       "      <td>one biggest misfires ever script nice could en...</td>\n",
       "    </tr>\n",
       "    <tr>\n",
       "      <th>7</th>\n",
       "      <td>\"395_2\"</td>\n",
       "      <td>\"This is one of those movies I watched, and wo...</td>\n",
       "      <td>one movies watched wondered watch find interes...</td>\n",
       "    </tr>\n",
       "    <tr>\n",
       "      <th>8</th>\n",
       "      <td>\"10616_1\"</td>\n",
       "      <td>\"The worst movie i've seen in years (and i've ...</td>\n",
       "      <td>worst movie seen years seen lot movies acting ...</td>\n",
       "    </tr>\n",
       "    <tr>\n",
       "      <th>9</th>\n",
       "      <td>\"9074_9\"</td>\n",
       "      <td>\"Five medical students (Kevin Bacon, David Lab...</td>\n",
       "      <td>five medical students kevin bacon david labrac...</td>\n",
       "    </tr>\n",
       "    <tr>\n",
       "      <th>10</th>\n",
       "      <td>\"9252_3\"</td>\n",
       "      <td>\"'The Mill on the Floss' was one of the lesser...</td>\n",
       "      <td>mill floss one lesser novels mary ann evans wr...</td>\n",
       "    </tr>\n",
       "    <tr>\n",
       "      <th>11</th>\n",
       "      <td>\"9896_9\"</td>\n",
       "      <td>\"I just saw this film at the phoenix film fest...</td>\n",
       "      <td>saw film phoenix film festival today loved syn...</td>\n",
       "    </tr>\n",
       "    <tr>\n",
       "      <th>12</th>\n",
       "      <td>\"574_4\"</td>\n",
       "      <td>\"\\\"The Love Letter\\\" is one of those movies th...</td>\n",
       "      <td>love letter one movies could really clever was...</td>\n",
       "    </tr>\n",
       "    <tr>\n",
       "      <th>13</th>\n",
       "      <td>\"11182_8\"</td>\n",
       "      <td>\"Another fantastic offering from the Monkey Is...</td>\n",
       "      <td>another fantastic offering monkey island team ...</td>\n",
       "    </tr>\n",
       "    <tr>\n",
       "      <th>14</th>\n",
       "      <td>\"11656_4\"</td>\n",
       "      <td>\"This was included on the disk \\\"Shorts: Volum...</td>\n",
       "      <td>included disk shorts volume rather dull collec...</td>\n",
       "    </tr>\n",
       "    <tr>\n",
       "      <th>15</th>\n",
       "      <td>\"2322_4\"</td>\n",
       "      <td>\"I'm not really much of an Abbott &amp; Costello f...</td>\n",
       "      <td>really much abbott costello fan although enjoy...</td>\n",
       "    </tr>\n",
       "    <tr>\n",
       "      <th>16</th>\n",
       "      <td>\"8703_1\"</td>\n",
       "      <td>\"This movie was dreadful. Biblically very inac...</td>\n",
       "      <td>movie dreadful biblically inaccurate moses yea...</td>\n",
       "    </tr>\n",
       "    <tr>\n",
       "      <th>17</th>\n",
       "      <td>\"7483_1\"</td>\n",
       "      <td>\"I don't think I've ever gave something a 1/10...</td>\n",
       "      <td>think ever gave something rating one easily ge...</td>\n",
       "    </tr>\n",
       "    <tr>\n",
       "      <th>18</th>\n",
       "      <td>\"6007_10\"</td>\n",
       "      <td>\"Excellent story-telling and cinematography. P...</td>\n",
       "      <td>excellent story telling cinematography poignan...</td>\n",
       "    </tr>\n",
       "    <tr>\n",
       "      <th>19</th>\n",
       "      <td>\"12424_4\"</td>\n",
       "      <td>\"I completely forgot that I'd seen this within...</td>\n",
       "      <td>completely forgot seen within couple days pret...</td>\n",
       "    </tr>\n",
       "    <tr>\n",
       "      <th>20</th>\n",
       "      <td>\"4672_1\"</td>\n",
       "      <td>\"I like action movies. I have a softspot for \\...</td>\n",
       "      <td>like action movies softspot b flicks bad dialo...</td>\n",
       "    </tr>\n",
       "    <tr>\n",
       "      <th>21</th>\n",
       "      <td>\"10841_3\"</td>\n",
       "      <td>\"This is one of the worst Sandra Bullock movie...</td>\n",
       "      <td>one worst sandra bullock movie since speed qui...</td>\n",
       "    </tr>\n",
       "    <tr>\n",
       "      <th>22</th>\n",
       "      <td>\"8954_7\"</td>\n",
       "      <td>\"Watched this flick on Saturday afternoon cabl...</td>\n",
       "      <td>watched flick saturday afternoon cable man dra...</td>\n",
       "    </tr>\n",
       "    <tr>\n",
       "      <th>23</th>\n",
       "      <td>\"7392_1\"</td>\n",
       "      <td>\"I went to see \\\"TKIA\\\" with high expectations...</td>\n",
       "      <td>went see tkia high expectations might influenc...</td>\n",
       "    </tr>\n",
       "    <tr>\n",
       "      <th>24</th>\n",
       "      <td>\"10288_8\"</td>\n",
       "      <td>\"All credit to writer/director Gilles Mimouni ...</td>\n",
       "      <td>credit writer director gilles mimouni fashione...</td>\n",
       "    </tr>\n",
       "    <tr>\n",
       "      <th>25</th>\n",
       "      <td>\"5343_4\"</td>\n",
       "      <td>\"As a writing teacher, there are two ending I ...</td>\n",
       "      <td>writing teacher two ending never allow student...</td>\n",
       "    </tr>\n",
       "    <tr>\n",
       "      <th>26</th>\n",
       "      <td>\"4950_1\"</td>\n",
       "      <td>\"I don't know why this has gotten any decent r...</td>\n",
       "      <td>know gotten decent reviews could weakest horro...</td>\n",
       "    </tr>\n",
       "    <tr>\n",
       "      <th>27</th>\n",
       "      <td>\"9257_4\"</td>\n",
       "      <td>\"This film was released in the UK under the na...</td>\n",
       "      <td>film released uk name blood rites banned outri...</td>\n",
       "    </tr>\n",
       "    <tr>\n",
       "      <th>28</th>\n",
       "      <td>\"8689_3\"</td>\n",
       "      <td>\"Uncle Fred Olen Ray once again gives us a lit...</td>\n",
       "      <td>uncle fred olen ray gives us little retromedia...</td>\n",
       "    </tr>\n",
       "    <tr>\n",
       "      <th>29</th>\n",
       "      <td>\"4480_2\"</td>\n",
       "      <td>\"OK, it's watchable if you are sick in bed or ...</td>\n",
       "      <td>ok watchable sick bed nothing else suspension ...</td>\n",
       "    </tr>\n",
       "    <tr>\n",
       "      <th>...</th>\n",
       "      <td>...</td>\n",
       "      <td>...</td>\n",
       "      <td>...</td>\n",
       "    </tr>\n",
       "    <tr>\n",
       "      <th>24970</th>\n",
       "      <td>\"6857_10\"</td>\n",
       "      <td>\"With \\\"Anatomy\\\" the german film producers ha...</td>\n",
       "      <td>anatomy german film producers tried make somet...</td>\n",
       "    </tr>\n",
       "    <tr>\n",
       "      <th>24971</th>\n",
       "      <td>\"11091_8\"</td>\n",
       "      <td>\"This movie is one of my all-time favorites. I...</td>\n",
       "      <td>movie one time favorites think sean penn great...</td>\n",
       "    </tr>\n",
       "    <tr>\n",
       "      <th>24972</th>\n",
       "      <td>\"4167_2\"</td>\n",
       "      <td>\"I found Code 46 very disappointing. I thought...</td>\n",
       "      <td>found code disappointing thought concept good ...</td>\n",
       "    </tr>\n",
       "    <tr>\n",
       "      <th>24973</th>\n",
       "      <td>\"679_4\"</td>\n",
       "      <td>\"Tamara Anderson and her family are moving onc...</td>\n",
       "      <td>tamara anderson family moving itinerant painte...</td>\n",
       "    </tr>\n",
       "    <tr>\n",
       "      <th>24974</th>\n",
       "      <td>\"10147_1\"</td>\n",
       "      <td>\"Now I've seen it all. Just when I thought it ...</td>\n",
       "      <td>seen thought get pathetic cheesy woodchipper m...</td>\n",
       "    </tr>\n",
       "    <tr>\n",
       "      <th>24975</th>\n",
       "      <td>\"6875_1\"</td>\n",
       "      <td>\"In this movie everything possible was wrong a...</td>\n",
       "      <td>movie everything possible wrong know bothered ...</td>\n",
       "    </tr>\n",
       "    <tr>\n",
       "      <th>24976</th>\n",
       "      <td>\"923_10\"</td>\n",
       "      <td>\"Well every scene so perfectly presented. Neve...</td>\n",
       "      <td>well every scene perfectly presented never see...</td>\n",
       "    </tr>\n",
       "    <tr>\n",
       "      <th>24977</th>\n",
       "      <td>\"6200_8\"</td>\n",
       "      <td>\"Sleeper Cell is what 24 should have been. 24 ...</td>\n",
       "      <td>sleeper cell cartoon watch feel cheated every ...</td>\n",
       "    </tr>\n",
       "    <tr>\n",
       "      <th>24978</th>\n",
       "      <td>\"7208_8\"</td>\n",
       "      <td>\"Not for everyone, but I really like it. Nice ...</td>\n",
       "      <td>everyone really like nice ensemble cast nice c...</td>\n",
       "    </tr>\n",
       "    <tr>\n",
       "      <th>24979</th>\n",
       "      <td>\"5363_8\"</td>\n",
       "      <td>\"Set just before the Second World War, this is...</td>\n",
       "      <td>set second world war touching understated roma...</td>\n",
       "    </tr>\n",
       "    <tr>\n",
       "      <th>24980</th>\n",
       "      <td>\"4067_8\"</td>\n",
       "      <td>\"Contains Spoiler The movie is a good action/c...</td>\n",
       "      <td>contains spoiler movie good action comedy know...</td>\n",
       "    </tr>\n",
       "    <tr>\n",
       "      <th>24981</th>\n",
       "      <td>\"1773_7\"</td>\n",
       "      <td>\"This is one of several period sea-faring yarn...</td>\n",
       "      <td>one several period sea faring yarns era added ...</td>\n",
       "    </tr>\n",
       "    <tr>\n",
       "      <th>24982</th>\n",
       "      <td>\"1498_10\"</td>\n",
       "      <td>\"Hearkening back to those \\\"Good Old Days\\\" of...</td>\n",
       "      <td>hearkening back good old days vividly recall t...</td>\n",
       "    </tr>\n",
       "    <tr>\n",
       "      <th>24983</th>\n",
       "      <td>\"10497_10\"</td>\n",
       "      <td>\"I thought this to be a pretty good example of...</td>\n",
       "      <td>thought pretty good example better soft core e...</td>\n",
       "    </tr>\n",
       "    <tr>\n",
       "      <th>24984</th>\n",
       "      <td>\"3444_10\"</td>\n",
       "      <td>\"Seeing this film, or rather set of films, in ...</td>\n",
       "      <td>seeing film rather set films early teens irrev...</td>\n",
       "    </tr>\n",
       "    <tr>\n",
       "      <th>24985</th>\n",
       "      <td>\"588_2\"</td>\n",
       "      <td>\"I didn't like this movie for many reasons - V...</td>\n",
       "      <td>like movie many reasons boring interesting tho...</td>\n",
       "    </tr>\n",
       "    <tr>\n",
       "      <th>24986</th>\n",
       "      <td>\"9678_9\"</td>\n",
       "      <td>\"I absolutely love this show!!!!!!!, Its basic...</td>\n",
       "      <td>absolutely love show basically fox improved ve...</td>\n",
       "    </tr>\n",
       "    <tr>\n",
       "      <th>24987</th>\n",
       "      <td>\"1983_9\"</td>\n",
       "      <td>\"eXistenZ combines director David Cronenberg's...</td>\n",
       "      <td>existenz combines director david cronenberg tr...</td>\n",
       "    </tr>\n",
       "    <tr>\n",
       "      <th>24988</th>\n",
       "      <td>\"5012_3\"</td>\n",
       "      <td>\"this movie is allegedly a comedy.so where did...</td>\n",
       "      <td>movie allegedly comedy laughs go forget put ve...</td>\n",
       "    </tr>\n",
       "    <tr>\n",
       "      <th>24989</th>\n",
       "      <td>\"12240_2\"</td>\n",
       "      <td>\"The Comebacks is a spoof on inspirational spo...</td>\n",
       "      <td>comebacks spoof inspirational sports movies le...</td>\n",
       "    </tr>\n",
       "    <tr>\n",
       "      <th>24990</th>\n",
       "      <td>\"5071_2\"</td>\n",
       "      <td>\"I'd love to write a little summary of this mo...</td>\n",
       "      <td>love write little summary movie plot simply on...</td>\n",
       "    </tr>\n",
       "    <tr>\n",
       "      <th>24991</th>\n",
       "      <td>\"5078_2\"</td>\n",
       "      <td>\"Obvious tailored vehicle for Ryan Philippe. I...</td>\n",
       "      <td>obvious tailored vehicle ryan philippe seem st...</td>\n",
       "    </tr>\n",
       "    <tr>\n",
       "      <th>24992</th>\n",
       "      <td>\"10069_3\"</td>\n",
       "      <td>\"&lt;br /&gt;&lt;br /&gt;JURASSIC PARK III *___ Adventure ...</td>\n",
       "      <td>jurassic park iii adventure sam nell dish will...</td>\n",
       "    </tr>\n",
       "    <tr>\n",
       "      <th>24993</th>\n",
       "      <td>\"7407_8\"</td>\n",
       "      <td>\"If you're even mildly interested in the War b...</td>\n",
       "      <td>even mildly interested war states film worth w...</td>\n",
       "    </tr>\n",
       "    <tr>\n",
       "      <th>24994</th>\n",
       "      <td>\"7207_1\"</td>\n",
       "      <td>\"It used to be that video distributors like Su...</td>\n",
       "      <td>used video distributors like sub rosa brain da...</td>\n",
       "    </tr>\n",
       "    <tr>\n",
       "      <th>24995</th>\n",
       "      <td>\"2155_10\"</td>\n",
       "      <td>\"Sony Pictures Classics, I'm looking at you! S...</td>\n",
       "      <td>sony pictures classics looking sony got rights...</td>\n",
       "    </tr>\n",
       "    <tr>\n",
       "      <th>24996</th>\n",
       "      <td>\"59_10\"</td>\n",
       "      <td>\"I always felt that Ms. Merkerson had never go...</td>\n",
       "      <td>always felt ms merkerson never gotten role fit...</td>\n",
       "    </tr>\n",
       "    <tr>\n",
       "      <th>24997</th>\n",
       "      <td>\"2531_1\"</td>\n",
       "      <td>\"I was so disappointed in this movie. I am ver...</td>\n",
       "      <td>disappointed movie familiar case read mark fuh...</td>\n",
       "    </tr>\n",
       "    <tr>\n",
       "      <th>24998</th>\n",
       "      <td>\"7772_8\"</td>\n",
       "      <td>\"From the opening sequence, filled with black ...</td>\n",
       "      <td>opening sequence filled black white shots remi...</td>\n",
       "    </tr>\n",
       "    <tr>\n",
       "      <th>24999</th>\n",
       "      <td>\"11465_10\"</td>\n",
       "      <td>\"This is a great horror film for people who do...</td>\n",
       "      <td>great horror film people want vomit retching g...</td>\n",
       "    </tr>\n",
       "  </tbody>\n",
       "</table>\n",
       "<p>25000 rows × 3 columns</p>\n",
       "</div>"
      ],
      "text/plain": [
       "               id                                             review  \\\n",
       "0      \"12311_10\"  \"Naturally in a film who's main themes are of ...   \n",
       "1        \"8348_2\"  \"This movie is a disaster within a disaster fi...   \n",
       "2        \"5828_4\"  \"All in all, this is a movie for kids. We saw ...   \n",
       "3        \"7186_2\"  \"Afraid of the Dark left me with the impressio...   \n",
       "4       \"12128_7\"  \"A very accurate depiction of small time mob l...   \n",
       "5        \"2913_8\"  \"...as valuable as King Tut's tomb! (OK, maybe...   \n",
       "6        \"4396_1\"  \"This has to be one of the biggest misfires ev...   \n",
       "7         \"395_2\"  \"This is one of those movies I watched, and wo...   \n",
       "8       \"10616_1\"  \"The worst movie i've seen in years (and i've ...   \n",
       "9        \"9074_9\"  \"Five medical students (Kevin Bacon, David Lab...   \n",
       "10       \"9252_3\"  \"'The Mill on the Floss' was one of the lesser...   \n",
       "11       \"9896_9\"  \"I just saw this film at the phoenix film fest...   \n",
       "12        \"574_4\"  \"\\\"The Love Letter\\\" is one of those movies th...   \n",
       "13      \"11182_8\"  \"Another fantastic offering from the Monkey Is...   \n",
       "14      \"11656_4\"  \"This was included on the disk \\\"Shorts: Volum...   \n",
       "15       \"2322_4\"  \"I'm not really much of an Abbott & Costello f...   \n",
       "16       \"8703_1\"  \"This movie was dreadful. Biblically very inac...   \n",
       "17       \"7483_1\"  \"I don't think I've ever gave something a 1/10...   \n",
       "18      \"6007_10\"  \"Excellent story-telling and cinematography. P...   \n",
       "19      \"12424_4\"  \"I completely forgot that I'd seen this within...   \n",
       "20       \"4672_1\"  \"I like action movies. I have a softspot for \\...   \n",
       "21      \"10841_3\"  \"This is one of the worst Sandra Bullock movie...   \n",
       "22       \"8954_7\"  \"Watched this flick on Saturday afternoon cabl...   \n",
       "23       \"7392_1\"  \"I went to see \\\"TKIA\\\" with high expectations...   \n",
       "24      \"10288_8\"  \"All credit to writer/director Gilles Mimouni ...   \n",
       "25       \"5343_4\"  \"As a writing teacher, there are two ending I ...   \n",
       "26       \"4950_1\"  \"I don't know why this has gotten any decent r...   \n",
       "27       \"9257_4\"  \"This film was released in the UK under the na...   \n",
       "28       \"8689_3\"  \"Uncle Fred Olen Ray once again gives us a lit...   \n",
       "29       \"4480_2\"  \"OK, it's watchable if you are sick in bed or ...   \n",
       "...           ...                                                ...   \n",
       "24970   \"6857_10\"  \"With \\\"Anatomy\\\" the german film producers ha...   \n",
       "24971   \"11091_8\"  \"This movie is one of my all-time favorites. I...   \n",
       "24972    \"4167_2\"  \"I found Code 46 very disappointing. I thought...   \n",
       "24973     \"679_4\"  \"Tamara Anderson and her family are moving onc...   \n",
       "24974   \"10147_1\"  \"Now I've seen it all. Just when I thought it ...   \n",
       "24975    \"6875_1\"  \"In this movie everything possible was wrong a...   \n",
       "24976    \"923_10\"  \"Well every scene so perfectly presented. Neve...   \n",
       "24977    \"6200_8\"  \"Sleeper Cell is what 24 should have been. 24 ...   \n",
       "24978    \"7208_8\"  \"Not for everyone, but I really like it. Nice ...   \n",
       "24979    \"5363_8\"  \"Set just before the Second World War, this is...   \n",
       "24980    \"4067_8\"  \"Contains Spoiler The movie is a good action/c...   \n",
       "24981    \"1773_7\"  \"This is one of several period sea-faring yarn...   \n",
       "24982   \"1498_10\"  \"Hearkening back to those \\\"Good Old Days\\\" of...   \n",
       "24983  \"10497_10\"  \"I thought this to be a pretty good example of...   \n",
       "24984   \"3444_10\"  \"Seeing this film, or rather set of films, in ...   \n",
       "24985     \"588_2\"  \"I didn't like this movie for many reasons - V...   \n",
       "24986    \"9678_9\"  \"I absolutely love this show!!!!!!!, Its basic...   \n",
       "24987    \"1983_9\"  \"eXistenZ combines director David Cronenberg's...   \n",
       "24988    \"5012_3\"  \"this movie is allegedly a comedy.so where did...   \n",
       "24989   \"12240_2\"  \"The Comebacks is a spoof on inspirational spo...   \n",
       "24990    \"5071_2\"  \"I'd love to write a little summary of this mo...   \n",
       "24991    \"5078_2\"  \"Obvious tailored vehicle for Ryan Philippe. I...   \n",
       "24992   \"10069_3\"  \"<br /><br />JURASSIC PARK III *___ Adventure ...   \n",
       "24993    \"7407_8\"  \"If you're even mildly interested in the War b...   \n",
       "24994    \"7207_1\"  \"It used to be that video distributors like Su...   \n",
       "24995   \"2155_10\"  \"Sony Pictures Classics, I'm looking at you! S...   \n",
       "24996     \"59_10\"  \"I always felt that Ms. Merkerson had never go...   \n",
       "24997    \"2531_1\"  \"I was so disappointed in this movie. I am ver...   \n",
       "24998    \"7772_8\"  \"From the opening sequence, filled with black ...   \n",
       "24999  \"11465_10\"  \"This is a great horror film for people who do...   \n",
       "\n",
       "                                            clean review  \n",
       "0      naturally film main themes mortality nostalgia...  \n",
       "1      movie disaster within disaster film full great...  \n",
       "2      movie kids saw tonight child loved one point k...  \n",
       "3      afraid dark left impression several different ...  \n",
       "4      accurate depiction small time mob life filmed ...  \n",
       "5      valuable king tut tomb ok maybe valuable worth...  \n",
       "6      one biggest misfires ever script nice could en...  \n",
       "7      one movies watched wondered watch find interes...  \n",
       "8      worst movie seen years seen lot movies acting ...  \n",
       "9      five medical students kevin bacon david labrac...  \n",
       "10     mill floss one lesser novels mary ann evans wr...  \n",
       "11     saw film phoenix film festival today loved syn...  \n",
       "12     love letter one movies could really clever was...  \n",
       "13     another fantastic offering monkey island team ...  \n",
       "14     included disk shorts volume rather dull collec...  \n",
       "15     really much abbott costello fan although enjoy...  \n",
       "16     movie dreadful biblically inaccurate moses yea...  \n",
       "17     think ever gave something rating one easily ge...  \n",
       "18     excellent story telling cinematography poignan...  \n",
       "19     completely forgot seen within couple days pret...  \n",
       "20     like action movies softspot b flicks bad dialo...  \n",
       "21     one worst sandra bullock movie since speed qui...  \n",
       "22     watched flick saturday afternoon cable man dra...  \n",
       "23     went see tkia high expectations might influenc...  \n",
       "24     credit writer director gilles mimouni fashione...  \n",
       "25     writing teacher two ending never allow student...  \n",
       "26     know gotten decent reviews could weakest horro...  \n",
       "27     film released uk name blood rites banned outri...  \n",
       "28     uncle fred olen ray gives us little retromedia...  \n",
       "29     ok watchable sick bed nothing else suspension ...  \n",
       "...                                                  ...  \n",
       "24970  anatomy german film producers tried make somet...  \n",
       "24971  movie one time favorites think sean penn great...  \n",
       "24972  found code disappointing thought concept good ...  \n",
       "24973  tamara anderson family moving itinerant painte...  \n",
       "24974  seen thought get pathetic cheesy woodchipper m...  \n",
       "24975  movie everything possible wrong know bothered ...  \n",
       "24976  well every scene perfectly presented never see...  \n",
       "24977  sleeper cell cartoon watch feel cheated every ...  \n",
       "24978  everyone really like nice ensemble cast nice c...  \n",
       "24979  set second world war touching understated roma...  \n",
       "24980  contains spoiler movie good action comedy know...  \n",
       "24981  one several period sea faring yarns era added ...  \n",
       "24982  hearkening back good old days vividly recall t...  \n",
       "24983  thought pretty good example better soft core e...  \n",
       "24984  seeing film rather set films early teens irrev...  \n",
       "24985  like movie many reasons boring interesting tho...  \n",
       "24986  absolutely love show basically fox improved ve...  \n",
       "24987  existenz combines director david cronenberg tr...  \n",
       "24988  movie allegedly comedy laughs go forget put ve...  \n",
       "24989  comebacks spoof inspirational sports movies le...  \n",
       "24990  love write little summary movie plot simply on...  \n",
       "24991  obvious tailored vehicle ryan philippe seem st...  \n",
       "24992  jurassic park iii adventure sam nell dish will...  \n",
       "24993  even mildly interested war states film worth w...  \n",
       "24994  used video distributors like sub rosa brain da...  \n",
       "24995  sony pictures classics looking sony got rights...  \n",
       "24996  always felt ms merkerson never gotten role fit...  \n",
       "24997  disappointed movie familiar case read mark fuh...  \n",
       "24998  opening sequence filled black white shots remi...  \n",
       "24999  great horror film people want vomit retching g...  \n",
       "\n",
       "[25000 rows x 3 columns]"
      ]
     },
     "execution_count": 11,
     "metadata": {},
     "output_type": "execute_result"
    }
   ],
   "source": [
    "test.head(25000)"
   ]
  },
  {
   "cell_type": "code",
   "execution_count": 12,
   "metadata": {
    "collapsed": true
   },
   "outputs": [],
   "source": [
    "test.to_csv(\"./Data/clean-test-data.csv\", sep='\\t')"
   ]
  },
  {
   "cell_type": "code",
   "execution_count": null,
   "metadata": {
    "collapsed": true
   },
   "outputs": [],
   "source": []
  }
 ],
 "metadata": {
  "kernelspec": {
   "display_name": "Python 2",
   "language": "python",
   "name": "python2"
  },
  "language_info": {
   "codemirror_mode": {
    "name": "ipython",
    "version": 2
   },
   "file_extension": ".py",
   "mimetype": "text/x-python",
   "name": "python",
   "nbconvert_exporter": "python",
   "pygments_lexer": "ipython2",
   "version": "2.7.12"
  }
 },
 "nbformat": 4,
 "nbformat_minor": 0
}
